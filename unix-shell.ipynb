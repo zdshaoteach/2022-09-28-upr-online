{
 "cells": [
  {
   "cell_type": "markdown",
   "id": "05cca176-55d8-4976-9ec1-2860580d1de5",
   "metadata": {
    "slideshow": {
     "slide_type": "slide"
    },
    "tags": [
     "plenum"
    ]
   },
   "source": [
    "# The Unix Shell"
   ]
  },
  {
   "cell_type": "markdown",
   "id": "2ace4cd3-3862-4872-a7a2-5c727193d0d4",
   "metadata": {
    "slideshow": {
     "slide_type": "subslide"
    },
    "tags": []
   },
   "source": [
    "[course link](https://swcarpentry.github.io/shell-novice/)\n",
    "\n",
    "[workshop shedule](https://indico.cern.ch/event/1190572/timetable/)\n"
   ]
  },
  {
   "cell_type": "markdown",
   "id": "22b7f8f5-7884-4298-8925-5dd167373d3f",
   "metadata": {
    "slideshow": {
     "slide_type": "subslide"
    },
    "tags": [
     "plenum"
    ]
   },
   "source": [
    "Keynotes:\n",
    "\n",
    "- duration: 70 mins + 30 mins break + 60 mins\n",
    "- Nelle’s Pipeline: A Typical Problem:\n",
    "    + navigate to a file/directory\n",
    "    + create a file/directory\n",
    "    + check the length of a file\n",
    "    + chain commands together\n",
    "    + retrieve a set of files\n",
    "    + iterate over files\n",
    "    + run a shell script containing her pipeline"
   ]
  },
  {
   "cell_type": "markdown",
   "id": "c067b289-e751-4845-8efa-2d8cd6b29681",
   "metadata": {
    "slideshow": {
     "slide_type": "slide"
    },
    "tags": []
   },
   "source": [
    "## 0. setup"
   ]
  },
  {
   "cell_type": "markdown",
   "id": "0822305c-75c1-45a6-b58f-4e1f7f8aa864",
   "metadata": {
    "slideshow": {
     "slide_type": "subslide"
    },
    "tags": []
   },
   "source": [
    "#### Option 1: type every command under 'Terminal' (Linux, Mac OS, Unix) or 'Command Line' (Windows). \n",
    "\n",
    "Note: These tools are accessible with the operating systems.\n",
    "\n",
    "#### Option 2: install Anaconda (or other conda-based python distribution) and use the terminal inside jupyter notebook. Follow the installation guide of Anaconda.\n",
    "\n",
    "Setup on windows: install `Git Bash` on windows and make it accessible to the system command line tool (it is not the default setting on the first step).\n",
    "\n",
    "#### Option 3: install bash kernel for jupyter and run this notebook directly. The setup\n",
    "\n",
    "To install and use the bash kernel on jupyter\n",
    "\n",
    "```!conda install -c conda-forge bash_kernel -y```\n",
    "\n",
    "or if you have mamba package manager\n",
    "\n",
    "\n",
    "```!mamba install -c conda-forge bash_kernel -y```"
   ]
  },
  {
   "cell_type": "code",
   "execution_count": null,
   "id": "25d741a4-58e2-4e40-be21-1ed1178455f4",
   "metadata": {
    "slideshow": {
     "slide_type": "slide"
    },
    "tags": [
     "plenum"
    ]
   },
   "outputs": [],
   "source": [
    "# this is a shell command in jupyter notebook\n",
    "# !command with python kernel\n",
    "# command with bash kernel\n",
    "\n",
    "help"
   ]
  },
  {
   "cell_type": "markdown",
   "id": "c413141c-3cdd-4c0c-b1fb-32c527f28608",
   "metadata": {
    "slideshow": {
     "slide_type": "slide"
    },
    "tags": []
   },
   "source": [
    "### Download course data"
   ]
  },
  {
   "cell_type": "code",
   "execution_count": 1,
   "id": "a5dd1f57-db81-47dc-988c-7566242f7301",
   "metadata": {
    "slideshow": {
     "slide_type": "fragment"
    },
    "tags": []
   },
   "outputs": [],
   "source": [
    "# clear current directory\n",
    "cd ~/TheCarpentries/2022-09-28-upr-online\n",
    "rm shell-lesson-data.zip\n",
    "rm -rf shell-lesson-data"
   ]
  },
  {
   "cell_type": "code",
   "execution_count": 2,
   "id": "5eca62be-2f25-4aef-96e7-bcd63c2cbf58",
   "metadata": {
    "slideshow": {
     "slide_type": "subslide"
    },
    "tags": [
     "plenum"
    ]
   },
   "outputs": [
    {
     "name": "stdout",
     "output_type": "stream",
     "text": [
      "--2022-09-28 01:31:44--  https://swcarpentry.github.io/shell-novice/data/shell-lesson-data.zip\n",
      "Resolving swcarpentry.github.io (swcarpentry.github.io)... 2606:50c0:8001::153, 2606:50c0:8003::153, 2606:50c0:8002::153, ...\n",
      "Connecting to swcarpentry.github.io (swcarpentry.github.io)|2606:50c0:8001::153|:443... \n"
     ]
    }
   ],
   "source": [
    "# download course file with wget\n",
    "wget https://swcarpentry.github.io/shell-novice/data/shell-lesson-data.zip"
   ]
  },
  {
   "cell_type": "code",
   "execution_count": 3,
   "id": "c5c42b47-2658-44ad-beeb-3036a2c1c263",
   "metadata": {
    "slideshow": {
     "slide_type": "subslide"
    },
    "tags": []
   },
   "outputs": [
    {
     "name": "stdout",
     "output_type": "stream",
     "text": [
      "  % Total    % Received % Xferd  Average Speed   Time    Time     Time  Current\n",
      "                                 Dload  Upload   Total   Spent    Left  Speed\n",
      "100  449k  100  449k    0     0   844k      0 --:--:-- --:--:-- --:--:--  844k\n"
     ]
    }
   ],
   "source": [
    "# or download with curl\n",
    "curl https://swcarpentry.github.io/shell-novice/data/shell-lesson-data.zip --output shell-lesson-data.zip"
   ]
  },
  {
   "cell_type": "code",
   "execution_count": 4,
   "id": "5f8b5ad5-78c0-42fe-b045-531a4ac0d5fe",
   "metadata": {
    "slideshow": {
     "slide_type": "subslide"
    },
    "tags": [
     "plenum"
    ]
   },
   "outputs": [
    {
     "name": "stdout",
     "output_type": "stream",
     "text": [
      "Archive:  shell-lesson-data.zip\n",
      "   creating: ./shell-lesson-data/\n",
      "   creating: ./shell-lesson-data/north-pacific-gyre/\n",
      "   creating: ./shell-lesson-data/exercise-data/\n",
      "   creating: ./shell-lesson-data/exercise-data/writing/\n",
      "  inflating: ./shell-lesson-data/exercise-data/writing/LittleWomen.txt  \n",
      "  inflating: ./shell-lesson-data/exercise-data/writing/haiku.txt  \n",
      "   creating: ./shell-lesson-data/exercise-data/creatures/\n",
      "  inflating: ./shell-lesson-data/exercise-data/creatures/basilisk.dat  \n",
      "  inflating: ./shell-lesson-data/exercise-data/creatures/unicorn.dat  \n",
      "  inflating: ./shell-lesson-data/exercise-data/creatures/minotaur.dat  \n",
      "   creating: ./shell-lesson-data/exercise-data/animal-counts/\n",
      "  inflating: ./shell-lesson-data/exercise-data/animal-counts/animals.csv  \n",
      " extracting: ./shell-lesson-data/exercise-data/numbers.txt  \n",
      "   creating: ./shell-lesson-data/exercise-data/proteins/\n",
      "  inflating: ./shell-lesson-data/exercise-data/proteins/ethane.pdb  \n",
      "  inflating: ./shell-lesson-data/exercise-data/proteins/propane.pdb  \n",
      "  inflating: ./shell-lesson-data/exercise-data/proteins/octane.pdb  \n",
      "  inflating: ./shell-lesson-data/exercise-data/proteins/pentane.pdb  \n",
      "  inflating: ./shell-lesson-data/exercise-data/proteins/methane.pdb  \n",
      "  inflating: ./shell-lesson-data/exercise-data/proteins/cubane.pdb  \n",
      "  inflating: ./shell-lesson-data/north-pacific-gyre/NENE01978B.txt  \n",
      "  inflating: ./shell-lesson-data/north-pacific-gyre/NENE02018B.txt  \n",
      "  inflating: ./shell-lesson-data/north-pacific-gyre/NENE01736A.txt  \n",
      "  inflating: ./shell-lesson-data/north-pacific-gyre/NENE01751A.txt  \n",
      "  inflating: ./shell-lesson-data/north-pacific-gyre/NENE02043B.txt  \n",
      "  inflating: ./shell-lesson-data/north-pacific-gyre/NENE02040B.txt  \n",
      "  inflating: ./shell-lesson-data/north-pacific-gyre/NENE01751B.txt  \n",
      "  inflating: ./shell-lesson-data/north-pacific-gyre/NENE02040Z.txt  \n",
      "  inflating: ./shell-lesson-data/north-pacific-gyre/NENE01971Z.txt  \n",
      "  inflating: ./shell-lesson-data/north-pacific-gyre/NENE01812A.txt  \n",
      "  inflating: ./shell-lesson-data/north-pacific-gyre/NENE01729A.txt  \n",
      "  inflating: ./shell-lesson-data/north-pacific-gyre/NENE02043A.txt  \n",
      "  inflating: ./shell-lesson-data/north-pacific-gyre/NENE01729B.txt  \n",
      "  inflating: ./shell-lesson-data/north-pacific-gyre/NENE01843A.txt  \n",
      "  inflating: ./shell-lesson-data/north-pacific-gyre/NENE02040A.txt  \n",
      "  inflating: ./shell-lesson-data/north-pacific-gyre/NENE01978A.txt  \n",
      "  inflating: ./shell-lesson-data/north-pacific-gyre/goodiff.sh  \n",
      "  inflating: ./shell-lesson-data/north-pacific-gyre/goostats.sh  \n",
      "  inflating: ./shell-lesson-data/north-pacific-gyre/NENE01843B.txt  \n"
     ]
    }
   ],
   "source": [
    "# unzip course file shell-lesson-data.zip\n",
    "# to current directory\n",
    "unzip shell-lesson-data.zip -d ./ "
   ]
  },
  {
   "cell_type": "markdown",
   "id": "41d10601-a555-4a48-bc92-1658131e672f",
   "metadata": {
    "slideshow": {
     "slide_type": "slide"
    },
    "tags": []
   },
   "source": [
    "## 1. navigate to a file/directory\n",
    "\n",
    "key commands\n",
    "\n",
    "- `ls` = list\n",
    "- `cd` = change directory\n",
    "- `pwd` = print working directory"
   ]
  },
  {
   "cell_type": "code",
   "execution_count": 5,
   "id": "9a84625e-1b31-44c6-a483-fb64bb3dd9dc",
   "metadata": {
    "slideshow": {
     "slide_type": "subslide"
    },
    "tags": []
   },
   "outputs": [
    {
     "name": "stdout",
     "output_type": "stream",
     "text": [
      "pwd\n",
      "/home/pi/TheCarpentries/2022-09-28-upr-online\n"
     ]
    }
   ],
   "source": [
    "# display current directory\n",
    "!pwd"
   ]
  },
  {
   "cell_type": "code",
   "execution_count": 6,
   "id": "7731f0dc-5517-4599-b8db-2f83c152e1c1",
   "metadata": {
    "slideshow": {
     "slide_type": "subslide"
    },
    "tags": []
   },
   "outputs": [
    {
     "name": "stdout",
     "output_type": "stream",
     "text": [
      "LICENSE    shell-lesson-data      unix-shell.ipynb\n",
      "README.md  shell-lesson-data.zip  version-control-with-git.ipynb\n"
     ]
    }
   ],
   "source": [
    "# list current directory\n",
    "ls"
   ]
  },
  {
   "cell_type": "code",
   "execution_count": 7,
   "id": "23dcc9ff-d251-48cb-9901-fd9baea662b2",
   "metadata": {
    "slideshow": {
     "slide_type": "subslide"
    },
    "tags": []
   },
   "outputs": [
    {
     "name": "stdout",
     "output_type": "stream",
     "text": [
      "Bookshelf  gems                      mambaforge  scripts         Videos\n",
      "Desktop    jupyterhub_cookie_secret  Music       Templates       workshop\n",
      "Documents  jupyterhub-proxy.pid      Pictures    TheCarpentries\n",
      "Downloads  jupyterhub.sqlite         Public      tmp\n"
     ]
    }
   ],
   "source": [
    "# list home directory, ~ denotes home directory\n",
    "# Question: where is your home directory?\n",
    "ls ~"
   ]
  },
  {
   "cell_type": "code",
   "execution_count": 8,
   "id": "943f8afc-1668-4c08-9575-929529f796ac",
   "metadata": {
    "slideshow": {
     "slide_type": "subslide"
    },
    "tags": []
   },
   "outputs": [
    {
     "name": "stdout",
     "output_type": "stream",
     "text": [
      "LICENSE    shell-lesson-data      unix-shell.ipynb\n",
      "README.md  shell-lesson-data.zip  version-control-with-git.ipynb\n"
     ]
    }
   ],
   "source": [
    "# list current directory, . denotes current directory\n",
    "ls ./"
   ]
  },
  {
   "cell_type": "code",
   "execution_count": 9,
   "id": "bf400d51-ca03-4f5f-ab16-f842bfe34172",
   "metadata": {
    "slideshow": {
     "slide_type": "subslide"
    },
    "tags": []
   },
   "outputs": [
    {
     "name": "stdout",
     "output_type": "stream",
     "text": [
      "exercise-data  north-pacific-gyre\n"
     ]
    }
   ],
   "source": [
    "# list a specific directory\n",
    "ls ./shell-lesson-data"
   ]
  },
  {
   "cell_type": "code",
   "execution_count": null,
   "id": "38af5753-2534-4b7b-9cbb-df07c7a00d87",
   "metadata": {
    "slideshow": {
     "slide_type": "subslide"
    },
    "tags": []
   },
   "outputs": [],
   "source": [
    "# help on a command\n",
    "# command --help\n",
    "# or man command\n",
    "ls --help"
   ]
  },
  {
   "cell_type": "markdown",
   "id": "4a975fea-c0bc-46e8-948a-e93f5763bfdb",
   "metadata": {
    "slideshow": {
     "slide_type": "slide"
    },
    "tags": []
   },
   "source": [
    "### Exercise: options of ls\n",
    "\n",
    "- `ls -a`\n",
    "- `ls -F`\n",
    "- `ls -r`\n",
    "- `ls -R`"
   ]
  },
  {
   "cell_type": "code",
   "execution_count": 11,
   "id": "543d5b81-3f12-426f-9249-32dd958e11f8",
   "metadata": {
    "slideshow": {
     "slide_type": "subslide"
    },
    "tags": []
   },
   "outputs": [
    {
     "name": "stdout",
     "output_type": "stream",
     "text": [
      ".     .gitignore          README.md              unix-shell.ipynb\n",
      "..    .ipynb_checkpoints  shell-lesson-data      version-control-with-git.ipynb\n",
      ".git  LICENSE             shell-lesson-data.zip\n"
     ]
    }
   ],
   "source": [
    "ls -a"
   ]
  },
  {
   "cell_type": "code",
   "execution_count": 12,
   "id": "8cfd3b3f-4228-4f86-b1d5-599be69abb3a",
   "metadata": {
    "slideshow": {
     "slide_type": "subslide"
    },
    "tags": []
   },
   "outputs": [
    {
     "name": "stdout",
     "output_type": "stream",
     "text": [
      "LICENSE    shell-lesson-data/     unix-shell.ipynb\n",
      "README.md  shell-lesson-data.zip  version-control-with-git.ipynb\n"
     ]
    }
   ],
   "source": [
    "ls -F"
   ]
  },
  {
   "cell_type": "code",
   "execution_count": 13,
   "id": "440d0b0c-8746-4b7c-87db-fdc2185e753c",
   "metadata": {
    "slideshow": {
     "slide_type": "subslide"
    },
    "tags": []
   },
   "outputs": [
    {
     "name": "stdout",
     "output_type": "stream",
     "text": [
      "version-control-with-git.ipynb  shell-lesson-data.zip  README.md\n",
      "unix-shell.ipynb                shell-lesson-data      LICENSE\n"
     ]
    }
   ],
   "source": [
    "ls -r"
   ]
  },
  {
   "cell_type": "code",
   "execution_count": 14,
   "id": "6c925e0a-f0e9-47bd-8c54-78bc8e5bb535",
   "metadata": {
    "slideshow": {
     "slide_type": "subslide"
    },
    "tags": []
   },
   "outputs": [
    {
     "name": "stdout",
     "output_type": "stream",
     "text": [
      ".:\n",
      "LICENSE    shell-lesson-data      unix-shell.ipynb\n",
      "README.md  shell-lesson-data.zip  version-control-with-git.ipynb\n",
      "\n",
      "./shell-lesson-data:\n",
      "exercise-data  north-pacific-gyre\n",
      "\n",
      "./shell-lesson-data/exercise-data:\n",
      "animal-counts  creatures  numbers.txt  proteins  writing\n",
      "\n",
      "./shell-lesson-data/exercise-data/animal-counts:\n",
      "animals.csv\n",
      "\n",
      "./shell-lesson-data/exercise-data/creatures:\n",
      "basilisk.dat  minotaur.dat  unicorn.dat\n",
      "\n",
      "./shell-lesson-data/exercise-data/proteins:\n",
      "cubane.pdb  ethane.pdb  methane.pdb  octane.pdb  pentane.pdb  propane.pdb\n",
      "\n",
      "./shell-lesson-data/exercise-data/writing:\n",
      "haiku.txt  LittleWomen.txt\n",
      "\n",
      "./shell-lesson-data/north-pacific-gyre:\n",
      "goodiff.sh      NENE01736A.txt  NENE01843A.txt  NENE01978B.txt  NENE02040Z.txt\n",
      "goostats.sh     NENE01751A.txt  NENE01843B.txt  NENE02018B.txt  NENE02043A.txt\n",
      "NENE01729A.txt  NENE01751B.txt  NENE01971Z.txt  NENE02040A.txt  NENE02043B.txt\n",
      "NENE01729B.txt  NENE01812A.txt  NENE01978A.txt  NENE02040B.txt\n"
     ]
    }
   ],
   "source": [
    "ls -R"
   ]
  },
  {
   "cell_type": "code",
   "execution_count": 15,
   "id": "269e28cd-ce08-48d9-8059-e4daad2bd7e3",
   "metadata": {
    "slideshow": {
     "slide_type": "slide"
    },
    "tags": []
   },
   "outputs": [],
   "source": [
    "cd shell-lesson-data"
   ]
  },
  {
   "cell_type": "code",
   "execution_count": 16,
   "id": "a2525c70-dbad-4960-873f-b2d5c608a191",
   "metadata": {
    "slideshow": {
     "slide_type": "fragment"
    },
    "tags": []
   },
   "outputs": [
    {
     "name": "stdout",
     "output_type": "stream",
     "text": [
      "/home/pi/TheCarpentries/2022-09-28-upr-online/shell-lesson-data\n"
     ]
    }
   ],
   "source": [
    "pwd"
   ]
  },
  {
   "cell_type": "markdown",
   "id": "4a4e8716-9bb4-4772-aa8c-23b989e852c6",
   "metadata": {
    "slideshow": {
     "slide_type": "slide"
    },
    "tags": []
   },
   "source": [
    "### Exercise: use of relative and absolute directories\n",
    "\n",
    "- `cd ../shell-lesson-data`\n",
    "- `cd ~/TheCarpentries/2022-09-28-upr-online/shell-lesson-data`\n",
    "- `cd ~/TheCarpentries/2022-09-28-upr-online/shell-lesson-data.zip`"
   ]
  },
  {
   "cell_type": "code",
   "execution_count": 17,
   "id": "c2d84191-f7eb-4caa-a371-c8fa419c0070",
   "metadata": {
    "slideshow": {
     "slide_type": "subslide"
    },
    "tags": []
   },
   "outputs": [],
   "source": [
    "# .. denotes the parent directory\n",
    "\n",
    "cd ../shell-lesson-data"
   ]
  },
  {
   "cell_type": "code",
   "execution_count": 18,
   "id": "27c5d1dc-869d-4df6-be6f-af984e410e8e",
   "metadata": {
    "slideshow": {
     "slide_type": "subslide"
    },
    "tags": []
   },
   "outputs": [],
   "source": [
    "cd ~/TheCarpentries/2022-09-28-upr-online/shell-lesson-data"
   ]
  },
  {
   "cell_type": "code",
   "execution_count": 19,
   "id": "4232dcaa-4891-4680-ae0f-139d27edcd99",
   "metadata": {
    "slideshow": {
     "slide_type": "subslide"
    },
    "tags": []
   },
   "outputs": [
    {
     "name": "stdout",
     "output_type": "stream",
     "text": [
      "bash: cd: /home/pi/TheCarpentries/2022-09-28-upr-online/shell-lesson-data.zip: Not a directory\n"
     ]
    },
    {
     "ename": "",
     "evalue": "1",
     "output_type": "error",
     "traceback": []
    }
   ],
   "source": [
    "cd ~/TheCarpentries/2022-09-28-upr-online/shell-lesson-data.zip"
   ]
  },
  {
   "cell_type": "markdown",
   "id": "043f549f-a53b-4355-8a1f-2c52a6c24127",
   "metadata": {
    "slideshow": {
     "slide_type": "slide"
    },
    "tags": []
   },
   "source": [
    "## 2. create/change a file/directory\n",
    "\n",
    "key commands\n",
    "\n",
    "- `mkdir` = make a directory\n",
    "- `touch` = create a new file\n",
    "- `mv` = move\n",
    "- `cp` = copy\n",
    "- `rm` = remove"
   ]
  },
  {
   "cell_type": "code",
   "execution_count": 20,
   "id": "ae51dc68-f708-462e-ba9b-9dc161204eaf",
   "metadata": {
    "slideshow": {
     "slide_type": "subslide"
    },
    "tags": []
   },
   "outputs": [
    {
     "name": "stdout",
     "output_type": "stream",
     "text": [
      "/home/pi/TheCarpentries/2022-09-28-upr-online/shell-lesson-data\n"
     ]
    }
   ],
   "source": [
    "pwd"
   ]
  },
  {
   "cell_type": "code",
   "execution_count": 21,
   "id": "bf958511-7a5f-48e2-879a-5447a508a39b",
   "metadata": {
    "slideshow": {
     "slide_type": "subslide"
    },
    "tags": []
   },
   "outputs": [
    {
     "name": "stdout",
     "output_type": "stream",
     "text": [
      "rm: cannot remove 'thesis': No such file or directory\n"
     ]
    },
    {
     "ename": "",
     "evalue": "1",
     "output_type": "error",
     "traceback": []
    }
   ],
   "source": [
    "rm -r thesis"
   ]
  },
  {
   "cell_type": "code",
   "execution_count": 22,
   "id": "fed3708b-7107-4606-815b-a81dc08a3a71",
   "metadata": {
    "slideshow": {
     "slide_type": "subslide"
    },
    "tags": []
   },
   "outputs": [],
   "source": [
    "# create a directory\n",
    "mkdir thesis"
   ]
  },
  {
   "cell_type": "code",
   "execution_count": 23,
   "id": "0640237b-5ce3-4d51-89fe-1154f14497d9",
   "metadata": {
    "slideshow": {
     "slide_type": "subslide"
    },
    "tags": []
   },
   "outputs": [
    {
     "name": "stdout",
     "output_type": "stream",
     "text": [
      "exercise-data  north-pacific-gyre  thesis\n"
     ]
    }
   ],
   "source": [
    "# check if the directory has been created\n",
    "ls"
   ]
  },
  {
   "cell_type": "code",
   "execution_count": 24,
   "id": "3597021a-b065-4849-b179-a213a9c19dcd",
   "metadata": {
    "slideshow": {
     "slide_type": "subslide"
    },
    "tags": []
   },
   "outputs": [
    {
     "name": "stdout",
     "output_type": "stream",
     "text": [
      "mkdir: cannot create directory ‘thesis’: File exists\n"
     ]
    },
    {
     "ename": "",
     "evalue": "1",
     "output_type": "error",
     "traceback": []
    }
   ],
   "source": [
    "# create a directory\n",
    "mkdir thesis"
   ]
  },
  {
   "cell_type": "code",
   "execution_count": 25,
   "id": "dd857b4e-b0e3-488e-885d-fafbb9eb92a6",
   "metadata": {
    "slideshow": {
     "slide_type": "subslide"
    },
    "tags": []
   },
   "outputs": [
    {
     "name": "stdout",
     "output_type": "stream",
     "text": [
      "rm: cannot remove 'thesis/paper.txt': No such file or directory\n"
     ]
    },
    {
     "ename": "",
     "evalue": "1",
     "output_type": "error",
     "traceback": []
    }
   ],
   "source": [
    "rm thesis/paper.txt"
   ]
  },
  {
   "cell_type": "code",
   "execution_count": 26,
   "id": "11e1a06a-7c22-4391-a040-ee3778efcde5",
   "metadata": {
    "slideshow": {
     "slide_type": "subslide"
    },
    "tags": []
   },
   "outputs": [],
   "source": [
    "# create a file thesis/paper.txt\n",
    "touch thesis/paper.txt"
   ]
  },
  {
   "cell_type": "code",
   "execution_count": 27,
   "id": "7ef1edaf-5857-429d-9841-b91802192e01",
   "metadata": {
    "slideshow": {
     "slide_type": "subslide"
    },
    "tags": []
   },
   "outputs": [],
   "source": [
    "# create the same file thesis/paper.txt\n",
    "touch thesis/paper.txt"
   ]
  },
  {
   "cell_type": "markdown",
   "id": "d1613c5f-b206-41f1-8ef2-c879baf5d93b",
   "metadata": {
    "slideshow": {
     "slide_type": "slide"
    },
    "tags": []
   },
   "source": [
    "### Exercise: move and copy a file or directly\n",
    "\n",
    "- `ls -R`\n",
    "- `mv thesis/paper.txt writing.txt`\n",
    "- `ls -R`\n",
    "- `cp thesis/paper.txt thesis.txt`\n",
    "- `ls -R`\n",
    "- `rm writing.txt`\n",
    "- `ls -R`\n",
    "- `rm thesis`\n",
    "- `rm -r thesis`"
   ]
  },
  {
   "cell_type": "code",
   "execution_count": 28,
   "id": "4123f3b9-053e-4770-bd52-1da54a713a94",
   "metadata": {
    "slideshow": {
     "slide_type": "subslide"
    },
    "tags": []
   },
   "outputs": [
    {
     "name": "stdout",
     "output_type": "stream",
     "text": [
      ".:\n",
      "exercise-data  north-pacific-gyre  thesis\n",
      "\n",
      "./exercise-data:\n",
      "animal-counts  creatures  numbers.txt  proteins  writing\n",
      "\n",
      "./exercise-data/animal-counts:\n",
      "animals.csv\n",
      "\n",
      "./exercise-data/creatures:\n",
      "basilisk.dat  minotaur.dat  unicorn.dat\n",
      "\n",
      "./exercise-data/proteins:\n",
      "cubane.pdb  ethane.pdb  methane.pdb  octane.pdb  pentane.pdb  propane.pdb\n",
      "\n",
      "./exercise-data/writing:\n",
      "haiku.txt  LittleWomen.txt\n",
      "\n",
      "./north-pacific-gyre:\n",
      "goodiff.sh      NENE01736A.txt  NENE01843A.txt  NENE01978B.txt  NENE02040Z.txt\n",
      "goostats.sh     NENE01751A.txt  NENE01843B.txt  NENE02018B.txt  NENE02043A.txt\n",
      "NENE01729A.txt  NENE01751B.txt  NENE01971Z.txt  NENE02040A.txt  NENE02043B.txt\n",
      "NENE01729B.txt  NENE01812A.txt  NENE01978A.txt  NENE02040B.txt\n",
      "\n",
      "./thesis:\n",
      "paper.txt\n"
     ]
    }
   ],
   "source": [
    "ls -R"
   ]
  },
  {
   "cell_type": "code",
   "execution_count": 29,
   "id": "71b35855-f92e-49df-95f6-b6064d388fb6",
   "metadata": {
    "slideshow": {
     "slide_type": "subslide"
    },
    "tags": []
   },
   "outputs": [],
   "source": [
    "mv thesis/paper.txt writing.txt"
   ]
  },
  {
   "cell_type": "code",
   "execution_count": 30,
   "id": "729eb14c-f7d5-47f1-b81e-d65737735010",
   "metadata": {
    "slideshow": {
     "slide_type": "subslide"
    },
    "tags": []
   },
   "outputs": [
    {
     "name": "stdout",
     "output_type": "stream",
     "text": [
      ".:\n",
      "exercise-data  north-pacific-gyre  thesis  writing.txt\n",
      "\n",
      "./exercise-data:\n",
      "animal-counts  creatures  numbers.txt  proteins  writing\n",
      "\n",
      "./exercise-data/animal-counts:\n",
      "animals.csv\n",
      "\n",
      "./exercise-data/creatures:\n",
      "basilisk.dat  minotaur.dat  unicorn.dat\n",
      "\n",
      "./exercise-data/proteins:\n",
      "cubane.pdb  ethane.pdb  methane.pdb  octane.pdb  pentane.pdb  propane.pdb\n",
      "\n",
      "./exercise-data/writing:\n",
      "haiku.txt  LittleWomen.txt\n",
      "\n",
      "./north-pacific-gyre:\n",
      "goodiff.sh      NENE01736A.txt  NENE01843A.txt  NENE01978B.txt  NENE02040Z.txt\n",
      "goostats.sh     NENE01751A.txt  NENE01843B.txt  NENE02018B.txt  NENE02043A.txt\n",
      "NENE01729A.txt  NENE01751B.txt  NENE01971Z.txt  NENE02040A.txt  NENE02043B.txt\n",
      "NENE01729B.txt  NENE01812A.txt  NENE01978A.txt  NENE02040B.txt\n",
      "\n",
      "./thesis:\n"
     ]
    }
   ],
   "source": [
    "ls -R"
   ]
  },
  {
   "cell_type": "code",
   "execution_count": 31,
   "id": "b18f48b6-2689-4a16-b8f2-4615982cf3da",
   "metadata": {
    "slideshow": {
     "slide_type": "subslide"
    },
    "tags": []
   },
   "outputs": [
    {
     "name": "stdout",
     "output_type": "stream",
     "text": [
      "cp: cannot stat 'thesis/paper.txt': No such file or directory\n"
     ]
    },
    {
     "ename": "",
     "evalue": "1",
     "output_type": "error",
     "traceback": []
    }
   ],
   "source": [
    "cp thesis/paper.txt thesis.txt"
   ]
  },
  {
   "cell_type": "code",
   "execution_count": 32,
   "id": "729a68e8-7b08-4f35-a615-30ed29b05321",
   "metadata": {
    "slideshow": {
     "slide_type": "subslide"
    },
    "tags": []
   },
   "outputs": [
    {
     "name": "stdout",
     "output_type": "stream",
     "text": [
      ".:\n",
      "exercise-data  north-pacific-gyre  thesis  writing.txt\n",
      "\n",
      "./exercise-data:\n",
      "animal-counts  creatures  numbers.txt  proteins  writing\n",
      "\n",
      "./exercise-data/animal-counts:\n",
      "animals.csv\n",
      "\n",
      "./exercise-data/creatures:\n",
      "basilisk.dat  minotaur.dat  unicorn.dat\n",
      "\n",
      "./exercise-data/proteins:\n",
      "cubane.pdb  ethane.pdb  methane.pdb  octane.pdb  pentane.pdb  propane.pdb\n",
      "\n",
      "./exercise-data/writing:\n",
      "haiku.txt  LittleWomen.txt\n",
      "\n",
      "./north-pacific-gyre:\n",
      "goodiff.sh      NENE01736A.txt  NENE01843A.txt  NENE01978B.txt  NENE02040Z.txt\n",
      "goostats.sh     NENE01751A.txt  NENE01843B.txt  NENE02018B.txt  NENE02043A.txt\n",
      "NENE01729A.txt  NENE01751B.txt  NENE01971Z.txt  NENE02040A.txt  NENE02043B.txt\n",
      "NENE01729B.txt  NENE01812A.txt  NENE01978A.txt  NENE02040B.txt\n",
      "\n",
      "./thesis:\n"
     ]
    }
   ],
   "source": [
    "# show hidden files\n",
    "ls -R"
   ]
  },
  {
   "cell_type": "code",
   "execution_count": 33,
   "id": "46cf9400-232f-4f95-961f-06b8e68f87a2",
   "metadata": {
    "slideshow": {
     "slide_type": "subslide"
    },
    "tags": []
   },
   "outputs": [],
   "source": [
    "touch thesis/paper.txt"
   ]
  },
  {
   "cell_type": "code",
   "execution_count": 34,
   "id": "1c7e5dda-e385-48ce-b05d-fc9db17700bb",
   "metadata": {
    "slideshow": {
     "slide_type": "subslide"
    },
    "tags": []
   },
   "outputs": [],
   "source": [
    "cp thesis/paper.txt thesis.txt"
   ]
  },
  {
   "cell_type": "code",
   "execution_count": 35,
   "id": "caf01377-c7b8-45cc-86d2-8a7b5207bf19",
   "metadata": {
    "slideshow": {
     "slide_type": "subslide"
    },
    "tags": []
   },
   "outputs": [
    {
     "name": "stdout",
     "output_type": "stream",
     "text": [
      ".:\n",
      "exercise-data  north-pacific-gyre  thesis  thesis.txt  writing.txt\n",
      "\n",
      "./exercise-data:\n",
      "animal-counts  creatures  numbers.txt  proteins  writing\n",
      "\n",
      "./exercise-data/animal-counts:\n",
      "animals.csv\n",
      "\n",
      "./exercise-data/creatures:\n",
      "basilisk.dat  minotaur.dat  unicorn.dat\n",
      "\n",
      "./exercise-data/proteins:\n",
      "cubane.pdb  ethane.pdb  methane.pdb  octane.pdb  pentane.pdb  propane.pdb\n",
      "\n",
      "./exercise-data/writing:\n",
      "haiku.txt  LittleWomen.txt\n",
      "\n",
      "./north-pacific-gyre:\n",
      "goodiff.sh      NENE01736A.txt  NENE01843A.txt  NENE01978B.txt  NENE02040Z.txt\n",
      "goostats.sh     NENE01751A.txt  NENE01843B.txt  NENE02018B.txt  NENE02043A.txt\n",
      "NENE01729A.txt  NENE01751B.txt  NENE01971Z.txt  NENE02040A.txt  NENE02043B.txt\n",
      "NENE01729B.txt  NENE01812A.txt  NENE01978A.txt  NENE02040B.txt\n",
      "\n",
      "./thesis:\n",
      "paper.txt\n"
     ]
    }
   ],
   "source": [
    "ls -R"
   ]
  },
  {
   "cell_type": "code",
   "execution_count": 36,
   "id": "51ea3075-950d-4f0a-ab37-d0835c458495",
   "metadata": {
    "slideshow": {
     "slide_type": "subslide"
    },
    "tags": []
   },
   "outputs": [],
   "source": [
    "rm writing.txt"
   ]
  },
  {
   "cell_type": "code",
   "execution_count": 37,
   "id": "861625aa-0c06-49a0-b54c-6458e335e9a5",
   "metadata": {
    "slideshow": {
     "slide_type": "subslide"
    },
    "tags": []
   },
   "outputs": [
    {
     "name": "stdout",
     "output_type": "stream",
     "text": [
      ".:\n",
      "exercise-data  north-pacific-gyre  thesis  thesis.txt\n",
      "\n",
      "./exercise-data:\n",
      "animal-counts  creatures  numbers.txt  proteins  writing\n",
      "\n",
      "./exercise-data/animal-counts:\n",
      "animals.csv\n",
      "\n",
      "./exercise-data/creatures:\n",
      "basilisk.dat  minotaur.dat  unicorn.dat\n",
      "\n",
      "./exercise-data/proteins:\n",
      "cubane.pdb  ethane.pdb  methane.pdb  octane.pdb  pentane.pdb  propane.pdb\n",
      "\n",
      "./exercise-data/writing:\n",
      "haiku.txt  LittleWomen.txt\n",
      "\n",
      "./north-pacific-gyre:\n",
      "goodiff.sh      NENE01736A.txt  NENE01843A.txt  NENE01978B.txt  NENE02040Z.txt\n",
      "goostats.sh     NENE01751A.txt  NENE01843B.txt  NENE02018B.txt  NENE02043A.txt\n",
      "NENE01729A.txt  NENE01751B.txt  NENE01971Z.txt  NENE02040A.txt  NENE02043B.txt\n",
      "NENE01729B.txt  NENE01812A.txt  NENE01978A.txt  NENE02040B.txt\n",
      "\n",
      "./thesis:\n",
      "paper.txt\n"
     ]
    }
   ],
   "source": [
    "ls -R"
   ]
  },
  {
   "cell_type": "code",
   "execution_count": 38,
   "id": "2bbeb43d-c4c7-4fd5-bf1f-cfbe08cf79b6",
   "metadata": {
    "slideshow": {
     "slide_type": "subslide"
    },
    "tags": []
   },
   "outputs": [
    {
     "name": "stdout",
     "output_type": "stream",
     "text": [
      "rm: cannot remove 'thesis': Is a directory\n"
     ]
    },
    {
     "ename": "",
     "evalue": "1",
     "output_type": "error",
     "traceback": []
    }
   ],
   "source": [
    "rm thesis"
   ]
  },
  {
   "cell_type": "code",
   "execution_count": 39,
   "id": "961e1180-0dd7-4e2f-bcf2-74e5432e0b7e",
   "metadata": {
    "slideshow": {
     "slide_type": "subslide"
    },
    "tags": []
   },
   "outputs": [],
   "source": [
    "rm -r thesis"
   ]
  },
  {
   "cell_type": "code",
   "execution_count": 40,
   "id": "ef90b960-3619-4947-a40c-1ac1ce16ddf2",
   "metadata": {
    "slideshow": {
     "slide_type": "subslide"
    },
    "tags": []
   },
   "outputs": [
    {
     "name": "stdout",
     "output_type": "stream",
     "text": [
      ".:\n",
      "exercise-data  north-pacific-gyre  thesis.txt\n",
      "\n",
      "./exercise-data:\n",
      "animal-counts  creatures  numbers.txt  proteins  writing\n",
      "\n",
      "./exercise-data/animal-counts:\n",
      "animals.csv\n",
      "\n",
      "./exercise-data/creatures:\n",
      "basilisk.dat  minotaur.dat  unicorn.dat\n",
      "\n",
      "./exercise-data/proteins:\n",
      "cubane.pdb  ethane.pdb  methane.pdb  octane.pdb  pentane.pdb  propane.pdb\n",
      "\n",
      "./exercise-data/writing:\n",
      "haiku.txt  LittleWomen.txt\n",
      "\n",
      "./north-pacific-gyre:\n",
      "goodiff.sh      NENE01736A.txt  NENE01843A.txt  NENE01978B.txt  NENE02040Z.txt\n",
      "goostats.sh     NENE01751A.txt  NENE01843B.txt  NENE02018B.txt  NENE02043A.txt\n",
      "NENE01729A.txt  NENE01751B.txt  NENE01971Z.txt  NENE02040A.txt  NENE02043B.txt\n",
      "NENE01729B.txt  NENE01812A.txt  NENE01978A.txt  NENE02040B.txt\n"
     ]
    }
   ],
   "source": [
    "ls -R"
   ]
  },
  {
   "cell_type": "markdown",
   "id": "8cc9f465-e642-48b3-b940-2fce849b8004",
   "metadata": {
    "slideshow": {
     "slide_type": "slide"
    },
    "tags": []
   },
   "source": [
    "## 3. check the length of a file\n",
    "\n",
    "key commands\n",
    "\n",
    "- `wc` = word count\n",
    "- `echo`\n",
    "- write output to a file `COMMAND > file.txt` and append to a file `COMMAND >> file.txt`\n",
    "- `cat` = concatenate\n",
    "- `sort -n file.txt`\n",
    "- `head -n 3 file.txt`\n",
    "- `tail -n 3 file.txt`"
   ]
  },
  {
   "cell_type": "code",
   "execution_count": 41,
   "id": "49a9521f-29c5-4051-9bb4-dcd4dd71bbee",
   "metadata": {
    "slideshow": {
     "slide_type": "subslide"
    },
    "tags": []
   },
   "outputs": [
    {
     "name": "stdout",
     "output_type": "stream",
     "text": [
      "exercise-data  north-pacific-gyre  thesis.txt\n"
     ]
    }
   ],
   "source": [
    "ls"
   ]
  },
  {
   "cell_type": "code",
   "execution_count": 42,
   "id": "d29f829e-4b09-4b33-a8ad-dccfbcf0255f",
   "metadata": {
    "slideshow": {
     "slide_type": "subslide"
    },
    "tags": []
   },
   "outputs": [],
   "source": [
    "cd exercise-data"
   ]
  },
  {
   "cell_type": "code",
   "execution_count": 43,
   "id": "89b6de30-adf5-4ee9-8d81-7d031fdbe7ba",
   "metadata": {
    "slideshow": {
     "slide_type": "subslide"
    },
    "tags": []
   },
   "outputs": [
    {
     "name": "stdout",
     "output_type": "stream",
     "text": [
      "cubane.pdb  ethane.pdb  methane.pdb  octane.pdb  pentane.pdb  propane.pdb\n"
     ]
    }
   ],
   "source": [
    "ls proteins"
   ]
  },
  {
   "cell_type": "code",
   "execution_count": 44,
   "id": "1db965fb-00e6-41a9-8196-5e4ae2f1d41e",
   "metadata": {
    "slideshow": {
     "slide_type": "subslide"
    },
    "tags": []
   },
   "outputs": [],
   "source": [
    "cd proteins"
   ]
  },
  {
   "cell_type": "code",
   "execution_count": 45,
   "id": "1ae7f830-a4bd-4ba2-8e13-e567b8ae6935",
   "metadata": {
    "slideshow": {
     "slide_type": "subslide"
    },
    "tags": []
   },
   "outputs": [
    {
     "name": "stdout",
     "output_type": "stream",
     "text": [
      "  20  156 1158 cubane.pdb\n"
     ]
    }
   ],
   "source": [
    "wc cubane.pdb"
   ]
  },
  {
   "cell_type": "code",
   "execution_count": 46,
   "id": "74e868f0-b2e3-4aa0-b2a2-c98111632d17",
   "metadata": {
    "slideshow": {
     "slide_type": "subslide"
    },
    "tags": []
   },
   "outputs": [
    {
     "name": "stdout",
     "output_type": "stream",
     "text": [
      "  20  156 1158 cubane.pdb\n",
      "  12   84  622 ethane.pdb\n",
      "   9   57  422 methane.pdb\n",
      "  30  246 1828 octane.pdb\n",
      "  21  165 1226 pentane.pdb\n",
      "  15  111  825 propane.pdb\n",
      " 107  819 6081 total\n"
     ]
    }
   ],
   "source": [
    "# use wildcard\n",
    "wc *.pdb"
   ]
  },
  {
   "cell_type": "code",
   "execution_count": 47,
   "id": "4d6b3760-33e4-4381-8fb6-678e6868fe69",
   "metadata": {
    "slideshow": {
     "slide_type": "subslide"
    },
    "tags": []
   },
   "outputs": [],
   "source": [
    "# write output to a file\n",
    "wc -l *.pdb > lengths.txt"
   ]
  },
  {
   "cell_type": "code",
   "execution_count": 48,
   "id": "e679f0e7-cb00-44f8-ae06-fc5dbb37455e",
   "metadata": {
    "slideshow": {
     "slide_type": "subslide"
    },
    "tags": []
   },
   "outputs": [
    {
     "name": "stdout",
     "output_type": "stream",
     "text": [
      "  20 cubane.pdb\n",
      "  12 ethane.pdb\n",
      "   9 methane.pdb\n",
      "  30 octane.pdb\n",
      "  21 pentane.pdb\n",
      "  15 propane.pdb\n",
      " 107 total\n"
     ]
    }
   ],
   "source": [
    "# show the content of the file\n",
    "cat lengths.txt"
   ]
  },
  {
   "cell_type": "code",
   "execution_count": 49,
   "id": "28b78e01-0d9a-4e27-93d0-08a020848cc6",
   "metadata": {
    "slideshow": {
     "slide_type": "subslide"
    },
    "tags": []
   },
   "outputs": [
    {
     "name": "stdout",
     "output_type": "stream",
     "text": [
      "   9 methane.pdb\n",
      "  12 ethane.pdb\n",
      "  15 propane.pdb\n",
      "  20 cubane.pdb\n",
      "  21 pentane.pdb\n",
      "  30 octane.pdb\n",
      " 107 total\n"
     ]
    }
   ],
   "source": [
    "# sort numerically\n",
    "sort -n lengths.txt"
   ]
  },
  {
   "cell_type": "code",
   "execution_count": 50,
   "id": "cd89c719-8c67-4744-8ed5-26fc1c02f230",
   "metadata": {
    "slideshow": {
     "slide_type": "subslide"
    },
    "tags": []
   },
   "outputs": [],
   "source": [
    "# write the output back to a file\n",
    "sort -n lengths.txt > sorted-lengths.txt"
   ]
  },
  {
   "cell_type": "code",
   "execution_count": 51,
   "id": "56ba80d7-4ab5-472a-adcb-e612c87d177a",
   "metadata": {
    "slideshow": {
     "slide_type": "subslide"
    },
    "tags": []
   },
   "outputs": [
    {
     "name": "stdout",
     "output_type": "stream",
     "text": [
      "   9 methane.pdb\n"
     ]
    }
   ],
   "source": [
    "head -n 1 sorted-lengths.txt"
   ]
  },
  {
   "cell_type": "markdown",
   "id": "9b58b492-bf61-45d9-a761-daf0f942f4e7",
   "metadata": {
    "slideshow": {
     "slide_type": "slide"
    },
    "tags": []
   },
   "source": [
    "## 4. chain commands together and retrieve a set of files\n",
    "\n",
    "- `|`: pass output to another command\n",
    "- `*`: wildcard character (see [regular expression](https://tldp.org/LDP/abs/html/x17129.html) as an advanced material) "
   ]
  },
  {
   "cell_type": "code",
   "execution_count": 52,
   "id": "33f5535b-0b2e-4040-9c21-8e3c3bac199f",
   "metadata": {
    "slideshow": {
     "slide_type": "subslide"
    },
    "tags": []
   },
   "outputs": [
    {
     "name": "stdout",
     "output_type": "stream",
     "text": [
      "   9 methane.pdb\n"
     ]
    }
   ],
   "source": [
    "# Passing output to another command\n",
    "sort -n lengths.txt | head -n 1"
   ]
  },
  {
   "cell_type": "code",
   "execution_count": 53,
   "id": "ccb5b7bd-dbec-45a4-931b-0eae4991bda1",
   "metadata": {
    "slideshow": {
     "slide_type": "subslide"
    },
    "tags": []
   },
   "outputs": [
    {
     "name": "stdout",
     "output_type": "stream",
     "text": [
      "   9 methane.pdb\n"
     ]
    }
   ],
   "source": [
    "# Put together everything\n",
    "wc -l *.pdb | sort -n | head -n 1"
   ]
  },
  {
   "cell_type": "markdown",
   "id": "c710eb37-2081-422c-83c3-5bf938eaffee",
   "metadata": {
    "slideshow": {
     "slide_type": "subslide"
    },
    "tags": []
   },
   "source": [
    "![](https://swcarpentry.github.io/shell-novice/fig/redirects-and-pipes.svg)"
   ]
  },
  {
   "cell_type": "markdown",
   "id": "b14570c8-248c-4a26-90b2-48bef7b5a87d",
   "metadata": {
    "slideshow": {
     "slide_type": "slide"
    },
    "tags": []
   },
   "source": [
    "# Exercise: minimal printing\n",
    "\n",
    "In our current directory, we want to find the 3 files which have the least number of lines. Which command listed below would work?\n",
    "\n",
    "1. `wc -l * > sort -n > head -n 3`\n",
    "2. `wc -l * | sort -n | head -n 1-3`\n",
    "3. `wc -l * | head -n 3 | sort -n`\n",
    "4. `wc -l * | sort -n | head -n 3`"
   ]
  },
  {
   "cell_type": "code",
   "execution_count": 54,
   "id": "3f82bbca-341b-4fd5-8ba7-15a3be94d508",
   "metadata": {
    "slideshow": {
     "slide_type": "subslide"
    },
    "tags": []
   },
   "outputs": [
    {
     "name": "stdout",
     "output_type": "stream",
     "text": [
      "/home/pi/TheCarpentries/2022-09-28-upr-online/shell-lesson-data/exercise-data/proteins\n"
     ]
    }
   ],
   "source": [
    "pwd"
   ]
  },
  {
   "cell_type": "code",
   "execution_count": 55,
   "id": "09a85d26-14a6-44aa-906c-1ee8e580b592",
   "metadata": {
    "slideshow": {
     "slide_type": "subslide"
    },
    "tags": []
   },
   "outputs": [
    {
     "name": "stdout",
     "output_type": "stream",
     "text": [
      "wc: invalid option -- 'n'\n",
      "Try 'wc --help' for more information.\n"
     ]
    },
    {
     "ename": "",
     "evalue": "1",
     "output_type": "error",
     "traceback": []
    }
   ],
   "source": [
    "wc -l *.pdb > sort -n > head -n 3"
   ]
  },
  {
   "cell_type": "code",
   "execution_count": 56,
   "id": "df6d16ee-196d-4541-99bd-c1744e69ea3f",
   "metadata": {
    "slideshow": {
     "slide_type": "subslide"
    },
    "tags": []
   },
   "outputs": [
    {
     "name": "stdout",
     "output_type": "stream",
     "text": [
      "head: invalid number of lines: ‘1-3’\n",
      "sort: fflush failed: 'standard output': Broken pipe\n",
      "sort: write error\n"
     ]
    },
    {
     "ename": "",
     "evalue": "1",
     "output_type": "error",
     "traceback": []
    }
   ],
   "source": [
    "wc -l * | sort -n | head -n 1-3"
   ]
  },
  {
   "cell_type": "code",
   "execution_count": 57,
   "id": "ebb5a74f-7be5-47c2-81c8-6c78455c1353",
   "metadata": {
    "slideshow": {
     "slide_type": "subslide"
    },
    "tags": []
   },
   "outputs": [
    {
     "name": "stdout",
     "output_type": "stream",
     "text": [
      "   0 head\n",
      "  12 ethane.pdb\n",
      "  20 cubane.pdb\n",
      "wc: write error\n"
     ]
    }
   ],
   "source": [
    "wc -l * | head -n 3 | sort -n"
   ]
  },
  {
   "cell_type": "code",
   "execution_count": 58,
   "id": "78cb33d1-169b-4cd2-8ab5-2744c52fb278",
   "metadata": {
    "slideshow": {
     "slide_type": "subslide"
    },
    "tags": []
   },
   "outputs": [
    {
     "name": "stdout",
     "output_type": "stream",
     "text": [
      "   0 head\n",
      "   0 sort\n",
      "   7 lengths.txt\n"
     ]
    }
   ],
   "source": [
    "wc -l * | sort -n | head -n 3"
   ]
  },
  {
   "cell_type": "markdown",
   "id": "b09d10e4-eca8-4159-830d-7cef3994b68b",
   "metadata": {
    "slideshow": {
     "slide_type": "slide"
    },
    "tags": []
   },
   "source": [
    "## 5. iterate over files\n",
    "\n",
    "- `for` loop\n",
    "- use `$` to get value of a variable"
   ]
  },
  {
   "cell_type": "code",
   "execution_count": 59,
   "id": "825b2010-8930-4cf9-98b9-17818414af97",
   "metadata": {
    "slideshow": {
     "slide_type": "subslide"
    },
    "tags": []
   },
   "outputs": [],
   "source": [
    "cd ~/TheCarpentries/2022-09-28-upr-online/shell-lesson-data/exercise-data/creatures"
   ]
  },
  {
   "cell_type": "code",
   "execution_count": 60,
   "id": "5d7b0a47-05bc-4869-8d8d-3be7a88e535c",
   "metadata": {
    "slideshow": {
     "slide_type": "subslide"
    },
    "tags": []
   },
   "outputs": [
    {
     "name": "stdout",
     "output_type": "stream",
     "text": [
      "basilisk.dat  minotaur.dat  unicorn.dat\n"
     ]
    }
   ],
   "source": [
    "ls"
   ]
  },
  {
   "cell_type": "code",
   "execution_count": 61,
   "id": "dd5c8d2e-9621-46de-a5fb-5ef953a68fdb",
   "metadata": {
    "slideshow": {
     "slide_type": "subslide"
    },
    "tags": []
   },
   "outputs": [],
   "source": [
    "files=$(ls)"
   ]
  },
  {
   "cell_type": "code",
   "execution_count": 62,
   "id": "ba43dc32-76bb-43a9-815b-91f9c00da1e5",
   "metadata": {
    "slideshow": {
     "slide_type": "subslide"
    },
    "tags": []
   },
   "outputs": [
    {
     "name": "stdout",
     "output_type": "stream",
     "text": [
      "basilisk.dat minotaur.dat unicorn.dat\n"
     ]
    }
   ],
   "source": [
    "echo $files"
   ]
  },
  {
   "cell_type": "code",
   "execution_count": 63,
   "id": "9d1a455d-5fd0-4288-a09f-3a933a20419a",
   "metadata": {
    "slideshow": {
     "slide_type": "subslide"
    },
    "tags": []
   },
   "outputs": [
    {
     "name": "stdout",
     "output_type": "stream",
     "text": [
      "CLASSIFICATION: basiliscus vulgaris\n",
      "CLASSIFICATION: bos hominus\n",
      "CLASSIFICATION: equus monoceros\n"
     ]
    }
   ],
   "source": [
    "for filename in $files\n",
    "do\n",
    "    head -n 2 $filename | tail -n 1\n",
    "done"
   ]
  },
  {
   "cell_type": "markdown",
   "id": "525ec118-168e-4cc4-9c83-4579a4638724",
   "metadata": {
    "slideshow": {
     "slide_type": "slide"
    },
    "tags": []
   },
   "source": [
    "## Exercise: loop over files\n",
    "\n",
    "loop over `*.dat` files under `shell-lesson-data/exercise-data/proteins`\n",
    "\n",
    "How to write the loop?"
   ]
  },
  {
   "cell_type": "code",
   "execution_count": 64,
   "id": "8aae667c-3e7b-4939-afc0-f14735fb1c55",
   "metadata": {
    "slideshow": {
     "slide_type": "subslide"
    },
    "tags": []
   },
   "outputs": [],
   "source": [
    "cd ~/TheCarpentries/2022-09-28-upr-online/shell-lesson-data/exercise-data/proteins"
   ]
  },
  {
   "cell_type": "code",
   "execution_count": 65,
   "id": "10b26a14-44de-4468-8673-fd8c83168566",
   "metadata": {
    "slideshow": {
     "slide_type": "subslide"
    },
    "tags": []
   },
   "outputs": [
    {
     "name": "stdout",
     "output_type": "stream",
     "text": [
      "cubane.pdb  head         methane.pdb  pentane.pdb  sort\n",
      "ethane.pdb  lengths.txt  octane.pdb   propane.pdb  sorted-lengths.txt\n"
     ]
    }
   ],
   "source": [
    "ls"
   ]
  },
  {
   "cell_type": "code",
   "execution_count": 66,
   "id": "55a625e6-1f79-4910-96c0-8acc34b7931c",
   "metadata": {
    "slideshow": {
     "slide_type": "subslide"
    },
    "tags": []
   },
   "outputs": [
    {
     "name": "stdout",
     "output_type": "stream",
     "text": [
      "cubane.pdb\n",
      "ethane.pdb\n",
      "methane.pdb\n",
      "octane.pdb\n",
      "pentane.pdb\n",
      "propane.pdb\n"
     ]
    }
   ],
   "source": [
    "for filename in *.pdb\n",
    "do\n",
    "    echo $filename\n",
    "done"
   ]
  },
  {
   "cell_type": "markdown",
   "id": "f1670450-2947-48ec-9b0d-d688be8e4dca",
   "metadata": {
    "slideshow": {
     "slide_type": "slide"
    },
    "tags": []
   },
   "source": [
    "## 6. run a shell script with a pipeline\n",
    "\n",
    "write and run a `.sh` file"
   ]
  },
  {
   "cell_type": "code",
   "execution_count": 67,
   "id": "30894f49-44e8-49bb-843a-44f81e2c3e87",
   "metadata": {
    "slideshow": {
     "slide_type": "subslide"
    },
    "tags": []
   },
   "outputs": [],
   "source": [
    "echo 'head -n 15 octane.pdb | tail -n 5' > script.sh"
   ]
  },
  {
   "cell_type": "code",
   "execution_count": 68,
   "id": "bec356de-a8ba-4372-8597-7b06bec51603",
   "metadata": {
    "slideshow": {
     "slide_type": "subslide"
    },
    "tags": []
   },
   "outputs": [
    {
     "name": "stdout",
     "output_type": "stream",
     "text": [
      "head -n 15 octane.pdb | tail -n 5\n"
     ]
    }
   ],
   "source": [
    "cat script.sh"
   ]
  },
  {
   "cell_type": "code",
   "execution_count": 69,
   "id": "1cf1ac8b-0f51-474b-b4a7-04cbc26c5d87",
   "metadata": {
    "slideshow": {
     "slide_type": "subslide"
    },
    "tags": []
   },
   "outputs": [
    {
     "name": "stdout",
     "output_type": "stream",
     "text": [
      "ATOM      9  H           1      -4.502   0.681   0.785  1.00  0.00\n",
      "ATOM     10  H           1      -5.254  -0.243  -0.537  1.00  0.00\n",
      "ATOM     11  H           1      -4.357   1.252  -0.895  1.00  0.00\n",
      "ATOM     12  H           1      -3.009  -0.741  -1.467  1.00  0.00\n",
      "ATOM     13  H           1      -3.172  -1.337   0.206  1.00  0.00\n"
     ]
    }
   ],
   "source": [
    "bash script.sh"
   ]
  },
  {
   "cell_type": "markdown",
   "id": "4b7b2216-dd26-458b-bf78-003861718ad0",
   "metadata": {
    "slideshow": {
     "slide_type": "slide"
    },
    "tags": [
     "plenum"
    ]
   },
   "source": [
    "## 7. Exercise\n",
    "\n",
    "Write a script that processes each `NENE*.txt` file under `shell-lesson-data/north-pacific-gyre`.\n",
    "For each file, it first outputs the filename, then outputs the minimum and maximum number in the file. \n",
    "Finally, it calls the `goostats.sh` script with `bash goostats.sh $filename stats-$filename`.\n"
   ]
  },
  {
   "cell_type": "code",
   "execution_count": 70,
   "id": "629445af-ea0d-464c-81b7-ad5d02f95a16",
   "metadata": {
    "slideshow": {
     "slide_type": "subslide"
    },
    "tags": [
     "plenum"
    ]
   },
   "outputs": [],
   "source": [
    "cd ~/TheCarpentries/2022-09-28-upr-online/shell-lesson-data/north-pacific-gyre"
   ]
  },
  {
   "cell_type": "code",
   "execution_count": 71,
   "id": "09565036-dfb2-430a-a9e5-bb20e070d80b",
   "metadata": {
    "slideshow": {
     "slide_type": "subslide"
    },
    "tags": []
   },
   "outputs": [
    {
     "name": "stdout",
     "output_type": "stream",
     "text": [
      "goodiff.sh      NENE01736A.txt  NENE01843A.txt  NENE01978B.txt  NENE02040Z.txt\n",
      "goostats.sh     NENE01751A.txt  NENE01843B.txt  NENE02018B.txt  NENE02043A.txt\n",
      "NENE01729A.txt  NENE01751B.txt  NENE01971Z.txt  NENE02040A.txt  NENE02043B.txt\n",
      "NENE01729B.txt  NENE01812A.txt  NENE01978A.txt  NENE02040B.txt\n"
     ]
    }
   ],
   "source": [
    "ls"
   ]
  },
  {
   "cell_type": "markdown",
   "id": "ac3d8a2b-caea-476a-acb3-4edf2fe69f07",
   "metadata": {
    "slideshow": {
     "slide_type": "subslide"
    },
    "tags": []
   },
   "source": [
    "write these lines to a script file and run it\n",
    "\n",
    "```\n",
    "for filename in NENE*.txt\n",
    "do\n",
    "    echo $filename\n",
    "    cat $filename | sort -n | head -n 1\n",
    "    cat $filename | sort -n | tail -n 1\n",
    "    bash goostats.sh $filename stats-$filename\n",
    "    echo '-----'\n",
    "done\n",
    "```"
   ]
  },
  {
   "cell_type": "code",
   "execution_count": 72,
   "id": "69f7f898-d3f5-49b3-a141-50975389b9c9",
   "metadata": {
    "slideshow": {
     "slide_type": "subslide"
    },
    "tags": []
   },
   "outputs": [],
   "source": [
    "echo \"for filename in NENE*.txt\n",
    "do\n",
    "    echo $filename\n",
    "    cat $filename | sort -n | head -n 1\n",
    "    cat $filename | sort -n | tail -n 1\n",
    "    bash goostats.sh $filename stats-$filename\n",
    "    echo '-----'\n",
    "done\" > script.sh"
   ]
  },
  {
   "cell_type": "code",
   "execution_count": null,
   "id": "f3510f8c-4cc9-45cf-8a42-b3d75c5ed07e",
   "metadata": {
    "slideshow": {
     "slide_type": "subslide"
    },
    "tags": []
   },
   "outputs": [],
   "source": [
    "bash script.sh"
   ]
  },
  {
   "cell_type": "markdown",
   "id": "debffa35-998a-45f0-8434-3dbeb79acdd1",
   "metadata": {
    "slideshow": {
     "slide_type": "slide"
    },
    "tags": [
     "breakout"
    ]
   },
   "source": [
    "## recap\n",
    "\n",
    "Nelle's Pipeline: A Typical Problem\n",
    "\n",
    "- navigate to a file/directory: `cd`, `ls`, `pwd`\n",
    "- create/change a file/directory: `mkdir`, `touch`, `cp`, `mv`, `rm`\n",
    "- check the length of a file: `wc`, `head`, `tail`, `sort`, `echo`\n",
    "- chain commands together: `|`\n",
    "- retrieve a set of files: use wildcard `*`\n",
    "- iterate over files: `for` loop\n",
    "- run a shell script containing her pipeline: `bash script.sh`"
   ]
  },
  {
   "cell_type": "markdown",
   "id": "6599dcf1-e2da-400f-a95f-f79cd6e4a29b",
   "metadata": {
    "slideshow": {
     "slide_type": "slide"
    },
    "tags": []
   },
   "source": [
    "## how to navigate through a new command"
   ]
  },
  {
   "cell_type": "code",
   "execution_count": null,
   "id": "4c9cac3b-0aed-4c99-b84c-aadaaf883bff",
   "metadata": {
    "slideshow": {
     "slide_type": "subslide"
    },
    "tags": []
   },
   "outputs": [],
   "source": [
    "# check how to use the zip command\n",
    "man zip"
   ]
  },
  {
   "cell_type": "code",
   "execution_count": null,
   "id": "5d856ef0-59c0-44b0-902f-2aa4ac3a1ce8",
   "metadata": {
    "slideshow": {
     "slide_type": "fragment"
    },
    "tags": []
   },
   "outputs": [],
   "source": [
    "# what data do we have?\n",
    "ls"
   ]
  },
  {
   "cell_type": "code",
   "execution_count": null,
   "id": "8b9e63bf-bcc7-4469-b958-f7773853656b",
   "metadata": {
    "slideshow": {
     "slide_type": "fragment"
    },
    "tags": []
   },
   "outputs": [],
   "source": [
    "# zip all txt files\n",
    "zip nene-data.zip *.txt "
   ]
  },
  {
   "cell_type": "code",
   "execution_count": null,
   "id": "a89b6aee-a8a7-401b-af6a-32904d90f6fc",
   "metadata": {
    "slideshow": {
     "slide_type": "fragment"
    },
    "tags": []
   },
   "outputs": [],
   "source": [
    "# observe the result\n",
    "ls"
   ]
  },
  {
   "cell_type": "markdown",
   "id": "4df0b882-b878-4bca-9e5a-e6ce8ad15257",
   "metadata": {
    "slideshow": {
     "slide_type": "slide"
    },
    "tags": []
   },
   "source": [
    "## check running processes\n",
    "\n",
    "- get all running processes `ps -aux`\n",
    "- select by matching term `grep term`\n",
    "- select all processes running by `doris`:  `ps -aux | grep doris`\n",
    "- select all python processes:  `ps -aux | grep python`"
   ]
  },
  {
   "cell_type": "code",
   "execution_count": null,
   "id": "e974776f-47a2-459d-9671-5b1367638ae1",
   "metadata": {
    "slideshow": {
     "slide_type": "subslide"
    },
    "tags": []
   },
   "outputs": [],
   "source": [
    "ps -aux"
   ]
  },
  {
   "cell_type": "code",
   "execution_count": null,
   "id": "276ab25e-2fe8-4718-8dc7-09ef1bc277fa",
   "metadata": {
    "slideshow": {
     "slide_type": "fragment"
    },
    "tags": []
   },
   "outputs": [],
   "source": [
    "man grep"
   ]
  },
  {
   "cell_type": "code",
   "execution_count": null,
   "id": "6eb9fb45-3383-4f83-86f3-f2a4817ca24a",
   "metadata": {
    "slideshow": {
     "slide_type": "fragment"
    },
    "tags": []
   },
   "outputs": [],
   "source": [
    "ps -aux | grep doris"
   ]
  },
  {
   "cell_type": "code",
   "execution_count": null,
   "id": "ce59d237-65e2-4963-b853-006f382c6fd8",
   "metadata": {
    "slideshow": {
     "slide_type": "fragment"
    },
    "tags": []
   },
   "outputs": [],
   "source": [
    "ps -aux | grep python"
   ]
  }
 ],
 "metadata": {
  "kernelspec": {
   "display_name": "Bash",
   "language": "bash",
   "name": "bash"
  },
  "language_info": {
   "codemirror_mode": "shell",
   "file_extension": ".sh",
   "mimetype": "text/x-sh",
   "name": "bash"
  }
 },
 "nbformat": 4,
 "nbformat_minor": 5
}
